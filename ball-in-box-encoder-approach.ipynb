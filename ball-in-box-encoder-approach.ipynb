{
 "cells": [
  {
   "cell_type": "code",
   "execution_count": null,
   "metadata": {},
   "outputs": [],
   "source": [
    "import deepSI\n",
    "from deepSI.systems.system import System, System_deriv, System_data\n",
    "import numpy as np\n",
    "from matplotlib import pyplot as plt"
   ]
  },
  {
   "cell_type": "code",
   "execution_count": null,
   "metadata": {},
   "outputs": [],
   "source": [
    "#the system to generate the data (also included in )\n",
    "\n",
    "from gym.spaces import Box\n",
    "class Ball_in_box(System_deriv): \n",
    "    \"\"\"docstring for Ball_in_box\n",
    "    dvxdt = (1/x**2-1/(1-x)**2)/200+ux-self.gamma*vx\n",
    "    dvydt = (1/y**2-1/(1-y)**2)/200+uy-self.gamma*vy\n",
    "    \"\"\"\n",
    "    def __init__(self, Fmax=0.25, Nresist=0.7):\n",
    "        self.Fmax = Fmax\n",
    "        dt = 2*np.pi/20 #20 points in the sin\n",
    "        self.gamma = Fmax*dt/0.1 # ux*dt/gamma = X=0.1\n",
    "        super(Ball_in_box, self).__init__(dt=dt,nx=2)\n",
    "        self.action_space = Box(float(-1),float(1),shape=(2,))\n",
    "\n",
    "    def reset(self):\n",
    "        self.x = [0.5,0.5,0,0] #[x,y,vx,vy]\n",
    "        return self.h(self.x) #return position\n",
    "\n",
    "    def deriv(self,x,u):\n",
    "        ux,uy = np.clip(u,-1,1)*self.Fmax\n",
    "        # print(u)\n",
    "        x,y,vx,vy = x\n",
    "        dvxdt = (1/x**2-1/(1-x)**2)/200+ux-self.gamma*vx\n",
    "        dvydt = (1/y**2-1/(1-y)**2)/200+uy-self.gamma*vy\n",
    "        return [vx,vy,dvxdt,dvydt]\n",
    "\n",
    "    def h(self,x):\n",
    "        return x[0],x[1] #return position\n",
    "\n",
    "class Ball_in_box_video(Ball_in_box):\n",
    "    \"\"\"same as Ball_in_box but with video output\n",
    "    \"\"\"\n",
    "    def __init__(self, Fmax=0.25):\n",
    "        self.ny_vid, self.nx_vid = 25, 25\n",
    "        super(Ball_in_box_video, self).__init__(Fmax=Fmax)\n",
    "        self.observation_space = Box(0.,1.,shape=(self.nx_vid,self.ny_vid)) #overwrite output\n",
    "\n",
    "    def h(self,x):\n",
    "        Y = np.linspace(0,1,num=self.ny_vid)\n",
    "        X = np.linspace(0,1,num=self.nx_vid)\n",
    "        Y,X = np.meshgrid(Y,X)\n",
    "        r = 0.22\n",
    "        A = np.clip((r**2-(X-x[1])**2-(Y-x[0])**2)/r**2,0,1)\n",
    "        return A #return array"
   ]
  },
  {
   "cell_type": "markdown",
   "metadata": {},
   "source": [
    "## Generate/Load data"
   ]
  },
  {
   "cell_type": "code",
   "execution_count": null,
   "metadata": {},
   "outputs": [],
   "source": [
    "if True:\n",
    "    np.random.seed(seed=42)\n",
    "    urand = lambda L: np.random.uniform(low=sys.action_space.low, high=sys.action_space.high, size=(L,2))\n",
    "    sys = Ball_in_box_video()\n",
    "    train = System_data(u=urand(30000))\n",
    "    val = System_data(u=urand(5000))\n",
    "    test = System_data(u=urand(5000))\n",
    "    train = sys.apply_experiment(train)\n",
    "    val = sys.apply_experiment(val)\n",
    "    test = sys.apply_experiment(test)\n",
    "    train.save('ball-in-box-data/train')\n",
    "    val.save('ball-in-box-data/val')\n",
    "    test.save('ball-in-box-data/test')\n",
    "else:\n",
    "    train = deepSI.load_system_data('ball-in-box-data/train.npz')\n",
    "    val = deepSI.load_system_data('ball-in-box-data/val.npz')\n",
    "    test = deepSI.load_system_data('ball-in-box-data/test.npz')"
   ]
  },
  {
   "cell_type": "code",
   "execution_count": null,
   "metadata": {},
   "outputs": [],
   "source": [
    "np.random.seed(42)\n",
    "ystd = np.std(train.y.flat)\n",
    "from copy import deepcopy\n",
    "\n",
    "def get_noisy(datas,noise):\n",
    "    datas_noise = [deepcopy(data) for data in datas]\n",
    "    for data_noise in datas_noise:\n",
    "        data_noise.y += np.random.normal(scale=ystd*noise,size=data_noise.y.shape)\n",
    "    return datas_noise\n",
    "\n",
    "train_5, val_5, test_5  = get_noisy([train,val,test],0.05)\n",
    "train_20,val_20,test_20 = get_noisy([train,val,test],0.20)\n",
    "train_50,val_50,test_50 = get_noisy([train,val,test],0.50)\n",
    "train_100,val_100,test_100 = get_noisy([train,val,test],1.00)"
   ]
  },
  {
   "cell_type": "markdown",
   "metadata": {},
   "source": [
    "## Fit state-space encoder"
   ]
  },
  {
   "cell_type": "code",
   "execution_count": null,
   "metadata": {
    "scrolled": false
   },
   "outputs": [],
   "source": [
    "dilation = 1 #this will skip n time steps between samples reducing memory usage considerably\n",
    "\n",
    "def get_fit_sys_ss(nx=6):\n",
    "    fit_sys = deepSI.fit_systems.SS_encoder(nx=nx, na=5, nb=5)\n",
    "    fit_sys.use_norm = False #the norm will not be fitted automatically\n",
    "    fit_sys.norm.y0 = np.mean(train.y) #fit global values\n",
    "    fit_sys.norm.ystd = np.std(train.y)\n",
    "    fit_sys.norm.u0 = np.mean(train.u,axis=0)\n",
    "    fit_sys.norm.ustd = np.std(train.u,axis=0)\n",
    "    return fit_sys\n",
    "\n",
    "if True:\n",
    "    fit_sys = get_fit_sys_ss()\n",
    "    fit_sys.fit(train.flatten(),verbose=2, epochs=930, loss_kwargs=dict(nf=50,dilation=dilation),sim_val=val.flatten())\n",
    "    fit_sys.save_system('systems/SS-encoder-sys') #prevent accidental overwrite is bad\n",
    "else:\n",
    "    fit_sys = deepSI.load_system('systems/SS-encoder-sys')\n",
    "\n",
    "if True:\n",
    "    fit_sys_5 = get_fit_sys_ss()\n",
    "    fit_sys_5.fit(train_5.flatten(),verbose=2, epochs=240, loss_kwargs=dict(nf=50,dilation=dilation),sim_val=val_5.flatten())\n",
    "    fit_sys_5.save_system('systems/SS-encoder-sys-5') #prevent accidental overwrite is bad\n",
    "else:\n",
    "    fit_sys_5 = deepSI.load_system('systems/SS-encoder-sys-5')\n",
    "    \n",
    "if True:\n",
    "    fit_sys_20 = get_fit_sys_ss()\n",
    "    fit_sys_20.fit(train_20.flatten(),verbose=2, epochs=240, loss_kwargs=dict(nf=50,dilation=dilation),sim_val=val_20.flatten())\n",
    "    fit_sys_20.save_system('systems/SS-encoder-sys-20') #prevent accidental overwrite is bad\n",
    "else:\n",
    "    fit_sys_20 = deepSI.load_system('systems/SS-encoder-sys-20')\n",
    "\n",
    "if True:\n",
    "    fit_sys_50 = get_fit_sys_ss()\n",
    "    fit_sys_50.fit(train_50.flatten(),verbose=2, epochs=240, loss_kwargs=dict(nf=50,dilation=dilation),sim_val=val_50.flatten())\n",
    "    fit_sys_50.save_system('systems/SS-encoder-sys-50') #prevent accidental overwrite is bad\n",
    "else:\n",
    "    fit_sys_50 = deepSI.load_system('systems/SS-encoder-sys-50')\n",
    "\n",
    "if True:\n",
    "    fit_sys_100 = get_fit_sys_ss()\n",
    "    fit_sys_100.fit(train_100.flatten(),verbose=2, epochs=240, loss_kwargs=dict(nf=50,dilation=dilation),sim_val=val_100.flatten())\n",
    "    fit_sys_100.save_system('systems/SS-encoder-sys-100') #prevent accidental overwrite is bad\n",
    "else:\n",
    "    fit_sys_100 = deepSI.load_system('systems/SS-encoder-sys-100')"
   ]
  },
  {
   "cell_type": "code",
   "execution_count": null,
   "metadata": {},
   "outputs": [],
   "source": [
    "plt.semilogy(fit_sys.Loss_val)\n",
    "plt.semilogy(fit_sys_5.Loss_val)\n",
    "plt.semilogy(fit_sys_20.Loss_val)\n",
    "plt.semilogy(fit_sys_50.Loss_val)\n",
    "plt.semilogy(fit_sys_100.Loss_val)\n",
    "plt.xlim(0,240)\n",
    "plt.show()\n"
   ]
  },
  {
   "cell_type": "code",
   "execution_count": null,
   "metadata": {},
   "outputs": [],
   "source": [
    "test_5_ss = fit_sys_5.apply_experiment(test_5.flatten()).reshape_as(test_5)\n",
    "test_20_ss = fit_sys_20.apply_experiment(test_20.flatten()).reshape_as(test_20)\n",
    "test_50_ss = fit_sys_50.apply_experiment(test_50.flatten()).reshape_as(test_50)\n",
    "test_100_ss = fit_sys_100.apply_experiment(test_100.flatten()).reshape_as(test_100)"
   ]
  },
  {
   "cell_type": "markdown",
   "metadata": {},
   "source": [
    "## Fit Input-output autoencoder\n",
    "\n",
    "Reproduction of: Wahlstrom, N., Schon, T.B., and Deisenroth, M.P.\n",
    "(2015). Learning deep dynamical models from image\n",
    "pixels. IFAC-PapersOnLine, 48(28), 1059–1064."
   ]
  },
  {
   "cell_type": "code",
   "execution_count": null,
   "metadata": {
    "scrolled": false
   },
   "outputs": [],
   "source": [
    "def get_IO_sys():\n",
    "    fit_sys_auto = deepSI.fit_systems.IO_autoencoder(nz=6, na=5, nb=5)\n",
    "    fit_sys_auto.use_norm = False #the norm will not be fitted automatically\n",
    "    fit_sys_auto.norm.y0 = np.mean(train.y) #fit global values\n",
    "    fit_sys_auto.norm.ystd = np.std(train.y)\n",
    "    fit_sys_auto.norm.u0 = np.mean(train.u,axis=0)\n",
    "    fit_sys_auto.norm.ustd = np.std(train.u,axis=0)\n",
    "    return fit_sys_auto\n",
    "\n",
    "if True:\n",
    "    fit_sys_auto = get_IO_sys()\n",
    "    fit_sys_auto.fit(train.flatten(),verbose=2, epochs=15*600, loss_kwargs=dict(),sim_val=val.flatten())\n",
    "    fit_sys_auto.save_system('systems/IO-autoencoder-sys') #overwrite is bad\n",
    "else:\n",
    "    fit_sys_auto = deepSI.load_system('systems/IO-autoencoder-sys')\n",
    "\n",
    "if True:\n",
    "    fit_sys_auto_5 = get_IO_sys()\n",
    "    fit_sys_auto_5.fit(train_5.flatten(),verbose=2, epochs=1000, loss_kwargs=dict(),sim_val=val_5.flatten())\n",
    "    fit_sys_auto_5.save_system('systems/IO-autoencoder-sys-5') #overwrite is bad\n",
    "else:\n",
    "    fit_sys_auto_5 = deepSI.load_system('systems/IO-autoencoder-sys-5')\n",
    "\n",
    "if True:\n",
    "    fit_sys_auto_20 = get_IO_sys()\n",
    "    fit_sys_auto_20.fit(train_20.flatten(),verbose=2, epochs=1000, loss_kwargs=dict(),sim_val=val_20.flatten())\n",
    "    fit_sys_auto_20.save_system('systems/IO-autoencoder-sys-20') #overwrite is bad\n",
    "else:\n",
    "    fit_sys_auto_20 = deepSI.load_system('systems/IO-autoencoder-sys-20')\n",
    "\n",
    "if True:\n",
    "    fit_sys_auto_50 = get_IO_sys()\n",
    "    fit_sys_auto_50.fit(train_50.flatten(),verbose=2, epochs=1000, loss_kwargs=dict(),sim_val=val_50.flatten())\n",
    "    fit_sys_auto_50.save_system('systems/IO-autoencoder-sys-50') #overwrite is bad\n",
    "else:\n",
    "    fit_sys_auto_50 = deepSI.load_system('systems/IO-autoencoder-sys-50')\n",
    "\n",
    "if True:\n",
    "    fit_sys_auto_100 = get_IO_sys()\n",
    "    fit_sys_auto_100.fit(train_100.flatten(),verbose=2, epochs=1000, loss_kwargs=dict(),sim_val=val_100.flatten())\n",
    "    fit_sys_auto_100.save_system('systems/IO-autoencoder-sys-100') #overwrite is bad\n",
    "else:\n",
    "    fit_sys_auto_100 = deepSI.load_system('systems/IO-autoencoder-sys-100')"
   ]
  },
  {
   "cell_type": "code",
   "execution_count": null,
   "metadata": {},
   "outputs": [],
   "source": [
    "test_SS_encoder, test_IO_auto = fit_sys.apply_experiment(test.flatten()).reshape_as(test), fit_sys_auto.apply_experiment(test.flatten()).reshape_as(test)\n",
    "train_SS_encoder, train_IO_auto = fit_sys.apply_experiment(train.flatten()).reshape_as(train), fit_sys_auto.apply_experiment(train.flatten()).reshape_as(train)"
   ]
  },
  {
   "cell_type": "code",
   "execution_count": null,
   "metadata": {},
   "outputs": [],
   "source": [
    "test_5_auto = fit_sys_auto_5.apply_experiment(test_5.flatten()).reshape_as(test_5)\n",
    "test_20_auto = fit_sys_auto_20.apply_experiment(test_20.flatten()).reshape_as(test_20)\n",
    "test_50_auto = fit_sys_auto_50.apply_experiment(test_50.flatten()).reshape_as(test_50)\n",
    "test_100_auto = fit_sys_auto_100.apply_experiment(test_100.flatten()).reshape_as(test_100)"
   ]
  },
  {
   "cell_type": "markdown",
   "metadata": {},
   "source": [
    "## Main RMS/NRSM Result"
   ]
  },
  {
   "cell_type": "code",
   "execution_count": null,
   "metadata": {},
   "outputs": [],
   "source": [
    "print(' ########## Train #############')\n",
    "print(f'\\t IO auto encoder RMS = {train_IO_auto.RMS(train):.4}, NRMS = {train_IO_auto.RMS(train)/np.std(test.y):.2%}')\n",
    "print(f'\\t SS      encoder RMS = {train_SS_encoder.RMS(train):.4}, NRMS = {train_SS_encoder.RMS(train)/np.std(test.y):.2%}')\n",
    "\n",
    "print('\\n ########## Test ############')\n",
    "print(f'\\t IO auto encoder     RMS = {test_IO_auto.RMS(test):4.04}, NRMS = {test_IO_auto.RMS(test)/np.std(test.y):.2%}')\n",
    "print(f'\\t SS      encoder     RMS = {test_SS_encoder.RMS(test):4.04}, NRMS = {test_SS_encoder.RMS(test)/np.std(test.y):.2%}')\n",
    "print(f'\\t IO auto encoder 5   RMS = {test_5_auto.RMS(test):4.4}, NRMS = {test_5_auto.RMS(test)/np.std(test.y):.2%}')\n",
    "print(f'\\t SS      encoder 5   RMS = {test_5_ss.RMS(test):4.4}, NRMS = {test_5_ss.RMS(test)/np.std(test.y):.2%}')\n",
    "print(f'\\t IO auto encoder 20  RMS = {test_20_auto.RMS(test):4.4}, NRMS = {test_20_auto.RMS(test)/np.std(test.y):.2%}')\n",
    "print(f'\\t SS      encoder 20  RMS = {test_20_ss.RMS(test):4.4}, NRMS = {test_20_ss.RMS(test)/np.std(test.y):.2%}')\n",
    "print(f'\\t IO auto encoder 50  RMS = {test_50_auto.RMS(test):4.4}, NRMS = {test_50_auto.RMS(test)/np.std(test.y):.2%}')\n",
    "print(f'\\t SS      encoder 50  RMS = {test_50_ss.RMS(test):4.4}, NRMS = {test_50_ss.RMS(test)/np.std(test.y):.2%}')\n",
    "print(f'\\t IO auto encoder 100 RMS = {test_100_auto.RMS(test):4.4}, NRMS = {test_100_auto.RMS(test)/np.std(test.y):.2%}')\n",
    "print(f'\\t SS      encoder 100 RMS = {test_100_ss.RMS(test):4.4}, NRMS = {test_100_ss.RMS(test)/np.std(test.y):.2%}')\n",
    "P = [test_IO_auto.RMS(test)/np.std(test.y),test_SS_encoder.RMS(test)/np.std(test.y),test_5_auto.RMS(test)/np.std(test.y),test_5_ss.RMS(test)/np.std(test.y),test_20_auto.RMS(test)/np.std(test.y),test_20_ss.RMS(test)/np.std(test.y),test_50_auto.RMS(test)/np.std(test.y),test_50_ss.RMS(test)/np.std(test.y),test_100_auto.RMS(test)/np.std(test.y),test_100_ss.RMS(test)/np.std(test.y)]\n",
    "IO_performs = P[::2]\n",
    "SS_performs = P[1::2]\n",
    "plt.plot(IO_performs,'o--')\n",
    "plt.plot(SS_performs,'o--')\n",
    "plt.show()"
   ]
  },
  {
   "cell_type": "markdown",
   "metadata": {},
   "source": [
    "## Validation simulation error during training"
   ]
  },
  {
   "cell_type": "code",
   "execution_count": null,
   "metadata": {},
   "outputs": [],
   "source": [
    "plt.semilogy(fit_sys_auto.Loss_val,'.')\n",
    "plt.semilogy(np.array(fit_sys.Loss_val),'.')\n",
    "plt.xlabel('epoch')\n",
    "plt.ylabel('val. similation error')\n",
    "plt.show()\n",
    "plt.semilogy(fit_sys_auto.time/60,fit_sys_auto.Loss_val,'.')\n",
    "plt.semilogy(np.array(fit_sys.time)/60,np.array(fit_sys.Loss_val),'.')\n",
    "plt.xlabel('wall time (min)')\n",
    "plt.ylabel('val. similation error')\n",
    "plt.show()"
   ]
  },
  {
   "cell_type": "markdown",
   "metadata": {},
   "source": [
    "## Figure 3: Time compare"
   ]
  },
  {
   "cell_type": "code",
   "execution_count": null,
   "metadata": {
    "scrolled": false
   },
   "outputs": [],
   "source": [
    "def make_figure(test,test_sim,name,Measured='Measured'):\n",
    "    Xmax,Ymax = test.y[0].shape\n",
    "    Y = test.y[100]\n",
    "    def ball_show(Y,t,text=True):\n",
    "        Y = np.clip(Y,0,1)\n",
    "        plt.imshow(Y,cmap='gray',interpolation='bicubic',origin='lower')\n",
    "        plt.plot(np.array([0,Ymax,Ymax,0,0])-0.5,np.array([0,0,Xmax,Xmax,0])-0.5,'k')\n",
    "        if text: plt.text(Ymax/2,Xmax*1.075,'t = {}'.format(t),horizontalalignment='center',verticalalignment='center',fontdict=dict(size=12))\n",
    "        plt.axis('off')\n",
    "        #add other things\n",
    "\n",
    "\n",
    "    offset = 26 #show extrapolation in 900\n",
    "    tlist = list(range(100,1001,100))\n",
    "    plt.figure(figsize=(15,2.5))\n",
    "    plt.subplot(2,len(tlist)+1,1)\n",
    "    plt.text(0.5,0.5,f'{Measured}:',horizontalalignment='center',verticalalignment='center',fontdict=dict(size=15))\n",
    "    plt.axis('off')\n",
    "    plt.subplot(2,len(tlist)+1,len(tlist)+1+1)\n",
    "    plt.text(0.5,0.5,'Simulated:',horizontalalignment='center',verticalalignment='center',fontdict=dict(size=15))\n",
    "    plt.axis('off')\n",
    "\n",
    "    for k,t in enumerate(tlist):\n",
    "        plt.subplot(2,len(tlist)+1,1+k+1)\n",
    "        ball_show(test.y[t+offset],t)\n",
    "        plt.subplot(2,len(tlist)+1,(1+len(tlist))+1+k+1)\n",
    "        ball_show(test_sim.y[t+offset],t,text=False)\n",
    "    # plt.tight_layout() #does not work\n",
    "    plt.savefig(f'./figures/{name}.jpg',dpi=200)\n",
    "    img0 = plt.imread(f'./figures/{name}.jpg')\n",
    "\n",
    "    #manual tight layout\n",
    "    img = np.mean(img0,axis=2)\n",
    "    xdiffs = np.arange(img.shape[1])[np.mean(img,axis=0)<255]\n",
    "    ydiffs = np.arange(img.shape[0])[np.mean(img,axis=1)<255]\n",
    "    xmin,xmax = np.min(xdiffs), np.max(xdiffs)\n",
    "    ymin,ymax = np.min(ydiffs), np.max(ydiffs)\n",
    "    plt.imsave(f'./figures/{name}.jpg',img0[ymin-1:ymax+1,xmin-1:xmax+1])\n",
    "    plt.show()\n",
    "make_figure(test,test_SS_encoder,'strip')\n",
    "make_figure(test_100,test_100_ss,'strip-100-noise',Measured='Noisy\\nMeasured')"
   ]
  },
  {
   "cell_type": "markdown",
   "metadata": {},
   "source": [
    "## Figure 4: Error in time"
   ]
  },
  {
   "cell_type": "code",
   "execution_count": null,
   "metadata": {},
   "outputs": [],
   "source": [
    "diff = (test_SS_encoder-test)\n",
    "plt.figure(figsize=(5,2))\n",
    "plt.plot(np.mean(diff.y[10:]**2,axis=(1,2))**0.5) \n",
    "plt.ylabel('RMS')\n",
    "plt.xlabel('Time index')\n",
    "plt.tight_layout()\n",
    "plt.grid()\n",
    "plt.savefig('./figures/time-square-error.pdf')\n",
    "plt.show()"
   ]
  },
  {
   "cell_type": "code",
   "execution_count": null,
   "metadata": {},
   "outputs": [],
   "source": [
    "diff = (test_SS_encoder-test)\n",
    "diff2 = (test_100_ss-test)\n",
    "plt.figure(figsize=(5,6))\n",
    "plt.plot(np.mean(diff.y[10:]**2,axis=(1,2))**0.5,'.') \n",
    "plt.plot(np.mean(diff2.y[10:]**2,axis=(1,2))**0.5,'.') \n",
    "plt.ylabel('RMS')\n",
    "plt.xlabel('Time index')\n",
    "plt.tight_layout()\n",
    "plt.grid()\n",
    "plt.savefig('./figures/time-square-error-noise.pdf')\n",
    "plt.show()"
   ]
  },
  {
   "cell_type": "markdown",
   "metadata": {},
   "source": [
    "## Figure 5: n-step error\n",
    "\n",
    "The error one expect to find after taking n steps."
   ]
  },
  {
   "cell_type": "code",
   "execution_count": null,
   "metadata": {},
   "outputs": [],
   "source": [
    "plt.figure(figsize=(5,2.5))\n",
    "plt.plot(fit_sys.n_step_error(test.flatten(),RMS=False,nf=80),label='SS encoder') #uses the norm\n",
    "plt.plot(fit_sys_auto.n_step_error(test.flatten(),RMS=False,nf=80),'--',label='IO autoencoder') #uses the norm\n",
    "# plt.plot(fit_sys.n_step_error(train[:5000].flatten(),RMS=False,nf=80),label='train') #uses the norm\n",
    "plt.ylim(0,0.1)\n",
    "plt.ylabel('$n$-step NRMS error')\n",
    "plt.xlabel('$n$-step ahead')\n",
    "plt.tight_layout()\n",
    "plt.legend()\n",
    "plt.grid()\n",
    "plt.savefig('./figures/n-step-error.pdf')\n",
    "plt.xlim(None,80)\n",
    "plt.show()\n"
   ]
  },
  {
   "cell_type": "markdown",
   "metadata": {},
   "source": [
    "## Video's"
   ]
  },
  {
   "cell_type": "code",
   "execution_count": null,
   "metadata": {},
   "outputs": [],
   "source": [
    "#requires cv2\n",
    "\n",
    "# test_predict.reshape_as(test).to_video(file_name='test-predict-ball-box-2')\n",
    "# test.to_video(file_name='test-ball-box-2')\n",
    "limit = 1500\n",
    "test[:limit].to_video('videos/test-measured')\n",
    "test_SS_encoder[:limit].to_video('videos/test-SS-encoder')\n",
    "test_IO_auto[:limit].to_video('videos/test-IO-autoencoder')\n",
    "\n",
    "#combined videos\n",
    "System_data(y=np.concatenate((test.y,test_SS_encoder.y),axis=2))[:limit].to_video(file_name='videos/test-sim-measured-and-SS-encoder')\n",
    "System_data(y=np.concatenate((test.y,test_SS_encoder.y,test_IO_auto.y),axis=2))[:limit].to_video(file_name='videos/test-sim-measured-SS-encoder-and-IO-auto-encoder')"
   ]
  },
  {
   "cell_type": "code",
   "execution_count": null,
   "metadata": {},
   "outputs": [],
   "source": [
    "limit = 1500\n",
    "System_data(y=np.concatenate((test_5.y,test_5_ss.y),axis=2))[:limit].to_video(file_name='videos/noise5-ss')\n",
    "System_data(y=np.concatenate((test_20.y,test_20_ss.y),axis=2))[:limit].to_video(file_name='videos/noise20-ss')\n",
    "System_data(y=np.concatenate((test_50.y,test_50_ss.y),axis=2))[:limit].to_video(file_name='videos/noise50-ss')\n",
    "System_data(y=np.concatenate((test_100.y,test_50_ss.y),axis=2))[:limit].to_video(file_name='videos/noise100-ss')\n",
    "# System_data(y=np.concatenate((test_5.y,test_5_ss.y),axis=2))[:limit].to_video(file_name='videos/noise5-ss')"
   ]
  },
  {
   "cell_type": "markdown",
   "metadata": {},
   "source": [
    "## Reproduceability @ nx=4"
   ]
  },
  {
   "cell_type": "code",
   "execution_count": null,
   "metadata": {},
   "outputs": [],
   "source": [
    "\n",
    "if True:\n",
    "    fit_sys_nx4_1 = get_fit_sys_ss(nx=4)\n",
    "    fit_sys_nx4_1.fit(train.flatten(),verbose=2, epochs=350, loss_kwargs=dict(nf=50),sim_val=val.flatten())\n",
    "    fit_sys_nx4_1.save_system('systems/SS-encoder-sys-nx4-1') #prevent accidental overwrite is bad\n",
    "else:\n",
    "    fit_sys_nx4_1 = deepSI.load_system('systems/SS-encoder-sys-nx4-1')\n",
    "\n",
    "if True:\n",
    "    fit_sys_nx4_2 = get_fit_sys_ss(nx=4)\n",
    "    fit_sys_nx4_2.fit(train.flatten(),verbose=2, epochs=350, loss_kwargs=dict(nf=50),sim_val=val.flatten())\n",
    "    fit_sys_nx4_2.save_system('systems/SS-encoder-sys-nx4-2') #prevent accidental overwrite is bad\n",
    "else:\n",
    "    fit_sys_nx4_2 = deepSI.load_system('systems/SS-encoder-sys-nx4-2')\n",
    "\n",
    "if True:\n",
    "    fit_sys_nx4_3 = get_fit_sys_ss(nx=4)\n",
    "    fit_sys_nx4_3.fit(train.flatten(),verbose=2, epochs=350, loss_kwargs=dict(nf=50),sim_val=val.flatten())\n",
    "    fit_sys_nx4_3.save_system('systems/SS-encoder-sys-nx4-3') #prevent accidental overwrite is bad\n",
    "else:\n",
    "    fit_sys_nx4_3 = deepSI.load_system('systems/SS-encoder-sys-nx4-3')\n",
    "    \n",
    "if True:\n",
    "    fit_sys_nx6_1 = get_fit_sys_ss(nx=6)\n",
    "    fit_sys_nx6_1.fit(train.flatten(),verbose=2, epochs=350, loss_kwargs=dict(nf=50),sim_val=val.flatten())\n",
    "    fit_sys_nx6_1.save_system('systems/SS-encoder-sys-nx6-1') #prevent accidental overwrite is bad\n",
    "else:\n",
    "    fit_sys_nx6_1 = deepSI.load_system('systems/SS-encoder-sys-nx6-1')\n"
   ]
  },
  {
   "cell_type": "code",
   "execution_count": null,
   "metadata": {},
   "outputs": [],
   "source": [
    "plt.semilogy(fit_sys_nx4_1.Loss_val[:40],label='nx=4')\n",
    "plt.semilogy(fit_sys_nx4_2.Loss_val[:40],label='nx=4')\n",
    "plt.semilogy(fit_sys_nx4_3.Loss_val[:40],label='nx=4')\n",
    "plt.semilogy(fit_sys_nx6_1.Loss_val[:40],label='nx=6')\n",
    "plt.legend()\n",
    "plt.show()"
   ]
  },
  {
   "cell_type": "code",
   "execution_count": null,
   "metadata": {},
   "outputs": [],
   "source": [
    "test_nx4_1 = fit_sys_nx4_1.apply_experiment(test.flatten()).reshape_as(test)\n",
    "test_nx4_2 = fit_sys_nx4_2.apply_experiment(test.flatten()).reshape_as(test)\n",
    "test_nx4_3 = fit_sys_nx4_3.apply_experiment(test.flatten()).reshape_as(test)\n",
    "test_nx6_1 = fit_sys_nx6_1.apply_experiment(test.flatten()).reshape_as(test)"
   ]
  },
  {
   "cell_type": "code",
   "execution_count": null,
   "metadata": {},
   "outputs": [],
   "source": [
    "print(f'\\t SS  nx4  encoder     RMS = {test_nx4_1.RMS(test):4.04}, NRMS = {test_nx4_1.RMS(test)/np.std(test.y):.2%}')\n",
    "print(f'\\t SS  nx4  encoder     RMS = {test_nx4_2.RMS(test):4.04}, NRMS = {test_nx4_2.RMS(test)/np.std(test.y):.2%}')\n",
    "print(f'\\t SS  nx4  encoder     RMS = {test_nx4_3.RMS(test):4.04}, NRMS = {test_nx4_3.RMS(test)/np.std(test.y):.2%}')\n",
    "print(f'\\t SS  nx6  encoder     RMS = {test_nx6_1.RMS(test):4.04}, NRMS = {test_nx6_1.RMS(test)/np.std(test.y):.2%}')\n"
   ]
  },
  {
   "cell_type": "code",
   "execution_count": null,
   "metadata": {},
   "outputs": [],
   "source": []
  }
 ],
 "metadata": {
  "kernelspec": {
   "display_name": "Python 3",
   "language": "python",
   "name": "python3"
  },
  "language_info": {
   "codemirror_mode": {
    "name": "ipython",
    "version": 3
   },
   "file_extension": ".py",
   "mimetype": "text/x-python",
   "name": "python",
   "nbconvert_exporter": "python",
   "pygments_lexer": "ipython3",
   "version": "3.7.7"
  }
 },
 "nbformat": 4,
 "nbformat_minor": 4
}
